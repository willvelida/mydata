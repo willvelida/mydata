{
 "cells": [
  {
   "cell_type": "markdown",
   "metadata": {},
   "source": [
    "# September-November 2017 Exploratory Analysis for My Data Project"
   ]
  },
  {
   "cell_type": "markdown",
   "metadata": {},
   "source": [
    "## Introduction"
   ]
  },
  {
   "cell_type": "markdown",
   "metadata": {},
   "source": [
    "The purpose of this notebook is to conduct some preliminary analysis into both the Total Exercise and Total Sleep datasets as part of the 'My Data' project. This data has been imported from my Fitbit dashboard as CSV and XSLX files. I have conducted some preliminary data manipulation in order to provide more context for the data. The raw files can be found in the [project's github repository](https://github.com/willvelida/mydata/tree/master/datasets)."
   ]
  },
  {
   "cell_type": "markdown",
   "metadata": {},
   "source": [
    "We are interested in the following questions:\n",
    "\n",
    "- How many more calories do we burn on active days than we do on rest days?\n",
    "- Does the amount of steps we take, amount of floors climbed and the amount of distance we cover have an effect on calorie burn?\n",
    "- Is there a difference in calorie burn between the months?\n",
    "- Do we burn more during the week than we do on the weekend?"
   ]
  },
  {
   "cell_type": "code",
   "execution_count": 3,
   "metadata": {
    "collapsed": true
   },
   "outputs": [],
   "source": [
    "import pandas as pd\n",
    "import matplotlib.pyplot as plt\n",
    "import requests"
   ]
  },
  {
   "cell_type": "code",
   "execution_count": 4,
   "metadata": {},
   "outputs": [
    {
     "name": "stdout",
     "output_type": "stream",
     "text": [
      "        Date Calories Burned  Steps  Distance  Floors Minutes Sedentary  \\\n",
      "0  1/09/2017            3721  13030      9.91       5               498   \n",
      "1  2/09/2017            3015   8147      6.35       3               732   \n",
      "2  3/09/2017            3837  13857     10.79       8               480   \n",
      "3  4/09/2017            4274  12846      9.79       8               593   \n",
      "4  5/09/2017            3519  11041      8.62       7              1044   \n",
      "\n",
      "   Minutes Lightly Active  Minutes Fairly Active  Minutes Very Active  \\\n",
      "0                     460                     13                   10   \n",
      "1                     223                     32                    2   \n",
      "2                     414                     26                   25   \n",
      "3                     334                     18                   87   \n",
      "4                     380                     10                    6   \n",
      "\n",
      "  Activity Calories  \n",
      "0              2266  \n",
      "1              1245  \n",
      "2              2379  \n",
      "3              2757  \n",
      "4              1947  \n",
      "(91, 10)\n",
      "Index(['Date', 'Calories Burned', 'Steps', 'Distance', 'Floors',\n",
      "       'Minutes Sedentary', 'Minutes Lightly Active', 'Minutes Fairly Active',\n",
      "       'Minutes Very Active', 'Activity Calories'],\n",
      "      dtype='object')\n"
     ]
    }
   ],
   "source": [
    "# Read the Exercise data into a DataFrame: exercise_df\n",
    "exercise_df = pd.read_csv(\"TotalExercise.csv\")\n",
    "\n",
    "# Print the head of exercise_df\n",
    "print(exercise_df.head())\n",
    "\n",
    "# Print the shape of exercise_df\n",
    "print(exercise_df.shape)\n",
    "\n",
    "# Print the columns of df\n",
    "print(exercise_df.columns)"
   ]
  },
  {
   "cell_type": "markdown",
   "metadata": {},
   "source": [
    "### Summary Statistics"
   ]
  },
  {
   "cell_type": "code",
   "execution_count": 5,
   "metadata": {},
   "outputs": [
    {
     "name": "stdout",
     "output_type": "stream",
     "text": [
      "        Distance     Floors  Minutes Lightly Active  Minutes Fairly Active  \\\n",
      "count  91.000000  91.000000               91.000000              91.000000   \n",
      "mean    6.637582   5.472527              288.274725              14.824176   \n",
      "std     2.714200   5.481972               92.904379              15.172778   \n",
      "min     0.760000   0.000000               45.000000               0.000000   \n",
      "25%     4.580000   1.000000              221.000000               0.000000   \n",
      "50%     6.350000   5.000000              295.000000              12.000000   \n",
      "75%     8.060000   7.500000              350.000000              27.000000   \n",
      "max    15.090000  29.000000              486.000000              66.000000   \n",
      "\n",
      "       Minutes Very Active  \n",
      "count            91.000000  \n",
      "mean             21.835165  \n",
      "std              25.377708  \n",
      "min               0.000000  \n",
      "25%               0.000000  \n",
      "50%              10.000000  \n",
      "75%              44.000000  \n",
      "max              87.000000  \n"
     ]
    }
   ],
   "source": [
    "# Describe the data\n",
    "print(exercise_df.describe())"
   ]
  },
  {
   "cell_type": "markdown",
   "metadata": {},
   "source": [
    "From this inital analysis, we can infer the following statistics:\n",
    "\n",
    "- The mean distance covered is **6.6 miles per day.**\n",
    "- The mean amount of floors climbed is **5.5 floors per day.**\n",
    "- The mean amount of minutes of light activity is **288.3 minutes per day.**\n",
    "- The mean amount of minutes of fairly active activity is **14.8 minutes per day.**\n",
    "- The mean amount of minutes of very active activity is **21.8 minutes per day.**"
   ]
  },
  {
   "cell_type": "code",
   "execution_count": null,
   "metadata": {
    "collapsed": true
   },
   "outputs": [],
   "source": []
  }
 ],
 "metadata": {
  "kernelspec": {
   "display_name": "Python 3",
   "language": "python",
   "name": "python3"
  },
  "language_info": {
   "codemirror_mode": {
    "name": "ipython",
    "version": 3
   },
   "file_extension": ".py",
   "mimetype": "text/x-python",
   "name": "python",
   "nbconvert_exporter": "python",
   "pygments_lexer": "ipython3",
   "version": "3.6.3"
  }
 },
 "nbformat": 4,
 "nbformat_minor": 2
}
