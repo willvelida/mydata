{
 "cells": [
  {
   "cell_type": "markdown",
   "metadata": {},
   "source": [
    "# September-November 2017 Exploratory Analysis for My Data Project"
   ]
  },
  {
   "cell_type": "markdown",
   "metadata": {},
   "source": [
    "## Introduction"
   ]
  },
  {
   "cell_type": "markdown",
   "metadata": {},
   "source": [
    "The purpose of this notebook is to conduct some preliminary analysis into both the Total Exercise and Total Sleep datasets as part of the 'My Data' project. This data has been imported from my Fitbit dashboard as CSV and XSLX files. I have conducted some preliminary data manipulation in order to provide more context for the data. The raw files can be found in the [project's github repository](https://github.com/willvelida/mydata/tree/master/datasets)."
   ]
  },
  {
   "cell_type": "markdown",
   "metadata": {},
   "source": [
    "We are interested in the following questions:\n",
    "\n",
    "- How many more calories do we burn on active days than we do on rest days?\n",
    "- Does the amount of steps we take, amount of floors climbed and the amount of distance we cover have an effect on calorie burn?\n",
    "- Is there a difference in calorie burn between the months?\n",
    "- Do we burn more during the week than we do on the weekend?"
   ]
  },
  {
   "cell_type": "code",
   "execution_count": 18,
   "metadata": {
    "collapsed": true
   },
   "outputs": [],
   "source": [
    "# Including all imports here\n",
    "import pandas as pd\n",
    "import matplotlib.pyplot as plt\n",
    "import requests\n"
   ]
  },
  {
   "cell_type": "markdown",
   "metadata": {},
   "source": [
    "## Loading and viewing the data"
   ]
  },
  {
   "cell_type": "code",
   "execution_count": 20,
   "metadata": {},
   "outputs": [
    {
     "name": "stdout",
     "output_type": "stream",
     "text": [
      "        Date Calories Burned  Steps  Distance  Floors Minutes Sedentary  \\\n",
      "0  1/09/2017            3721  13030      9.91       5               498   \n",
      "1  2/09/2017            3015   8147      6.35       3               732   \n",
      "2  3/09/2017            3837  13857     10.79       8               480   \n",
      "3  4/09/2017            4274  12846      9.79       8               593   \n",
      "4  5/09/2017            3519  11041      8.62       7              1044   \n",
      "\n",
      "   Minutes Lightly Active  Minutes Fairly Active  Minutes Very Active  \\\n",
      "0                     460                     13                   10   \n",
      "1                     223                     32                    2   \n",
      "2                     414                     26                   25   \n",
      "3                     334                     18                   87   \n",
      "4                     380                     10                    6   \n",
      "\n",
      "  Activity Calories Step Target Achieved Calorie Target Achieved  \\\n",
      "0              2266                  Yes                     Yes   \n",
      "1              1245                  Yes                      No   \n",
      "2              2379                  Yes                     Yes   \n",
      "3              2757                  Yes                     Yes   \n",
      "4              1947                  Yes                     Yes   \n",
      "\n",
      "  Activity Target Achieved Rest Day Distance Achieved  \n",
      "0                       No      Yes               Yes  \n",
      "1                       No       No               Yes  \n",
      "2                       No       No               Yes  \n",
      "3                      Yes       No               Yes  \n",
      "4                       No      Yes               Yes  \n",
      "          Date Calories Burned   Steps  Distance  Floors Minutes Sedentary  \\\n",
      "86  26/11/2017           3,372  10,559      8.24       3               774   \n",
      "87  27/11/2017           3,712  10,634      7.94       5               531   \n",
      "88  28/11/2017           4,376  15,373     11.87       6               526   \n",
      "89  29/11/2017           3,411   9,700      7.57       1               577   \n",
      "90  30/11/2017           4,445  15,834     11.91       8               389   \n",
      "\n",
      "    Minutes Lightly Active  Minutes Fairly Active  Minutes Very Active  \\\n",
      "86                     370                      0                    0   \n",
      "87                     318                     32                   50   \n",
      "88                     409                     17                   83   \n",
      "89                     454                      0                    0   \n",
      "90                     486                     36                   60   \n",
      "\n",
      "   Activity Calories Step Target Achieved Calorie Target Achieved  \\\n",
      "86             1,741                  Yes                      No   \n",
      "87             2,146                  Yes                     Yes   \n",
      "88             2,954                  Yes                     Yes   \n",
      "89             1,917                  Yes                     Yes   \n",
      "90             3,139                  Yes                     Yes   \n",
      "\n",
      "   Activity Target Achieved Rest Day Distance Achieved  \n",
      "86                       No      Yes               Yes  \n",
      "87                      Yes       No               Yes  \n",
      "88                      Yes       No               Yes  \n",
      "89                       No      Yes               Yes  \n",
      "90                      Yes       No               Yes  \n",
      "(91, 15)\n",
      "Index(['Date', 'Calories Burned', 'Steps', 'Distance', 'Floors',\n",
      "       'Minutes Sedentary', 'Minutes Lightly Active', 'Minutes Fairly Active',\n",
      "       'Minutes Very Active', 'Activity Calories', 'Step Target Achieved',\n",
      "       'Calorie Target Achieved', 'Activity Target Achieved', 'Rest Day',\n",
      "       'Distance Achieved'],\n",
      "      dtype='object')\n",
      "<class 'pandas.core.frame.DataFrame'>\n",
      "RangeIndex: 91 entries, 0 to 90\n",
      "Data columns (total 15 columns):\n",
      "Date                        91 non-null object\n",
      "Calories Burned             91 non-null object\n",
      "Steps                       91 non-null object\n",
      "Distance                    91 non-null float64\n",
      "Floors                      91 non-null int64\n",
      "Minutes Sedentary           91 non-null object\n",
      "Minutes Lightly Active      91 non-null int64\n",
      "Minutes Fairly Active       91 non-null int64\n",
      "Minutes Very Active         91 non-null int64\n",
      "Activity Calories           91 non-null object\n",
      "Step Target Achieved        91 non-null object\n",
      "Calorie Target Achieved     91 non-null object\n",
      "Activity Target Achieved    91 non-null object\n",
      "Rest Day                    91 non-null object\n",
      "Distance Achieved           91 non-null object\n",
      "dtypes: float64(1), int64(4), object(10)\n",
      "memory usage: 10.7+ KB\n",
      "None\n"
     ]
    }
   ],
   "source": [
    "# Read the file into a DataFrame: exercise_df\n",
    "exercise_df = pd.read_csv('TotalExercise.csv')\n",
    "\n",
    "# print the head of exercise_df\n",
    "print(exercise_df.head())\n",
    "\n",
    "# print the tail of exercise_df\n",
    "print(exercise_df.tail())\n",
    "\n",
    "# print the shape of exercise_df\n",
    "print(exercise_df.shape)\n",
    "\n",
    "# Print the columns of exercise_df\n",
    "print(exercise_df.columns)\n",
    "\n",
    "# Print the info of exercise_df\n",
    "print(exercise_df.info())"
   ]
  },
  {
   "cell_type": "code",
   "execution_count": null,
   "metadata": {
    "collapsed": true
   },
   "outputs": [],
   "source": []
  }
 ],
 "metadata": {
  "kernelspec": {
   "display_name": "Python 3",
   "language": "python",
   "name": "python3"
  },
  "language_info": {
   "codemirror_mode": {
    "name": "ipython",
    "version": 3
   },
   "file_extension": ".py",
   "mimetype": "text/x-python",
   "name": "python",
   "nbconvert_exporter": "python",
   "pygments_lexer": "ipython3",
   "version": "3.6.3"
  }
 },
 "nbformat": 4,
 "nbformat_minor": 2
}
